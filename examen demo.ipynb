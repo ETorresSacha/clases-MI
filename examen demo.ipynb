{
  "nbformat": 4,
  "nbformat_minor": 0,
  "metadata": {
    "colab": {
      "provenance": [],
      "authorship_tag": "ABX9TyOlq1k8KftHJSnPc29CE5By",
      "include_colab_link": true
    },
    "kernelspec": {
      "name": "python3",
      "display_name": "Python 3"
    },
    "language_info": {
      "name": "python"
    }
  },
  "cells": [
    {
      "cell_type": "markdown",
      "metadata": {
        "id": "view-in-github",
        "colab_type": "text"
      },
      "source": [
        "<a href=\"https://colab.research.google.com/github/ETorresSacha/clases-MI/blob/main/examen%20demo.ipynb\" target=\"_parent\"><img src=\"https://colab.research.google.com/assets/colab-badge.svg\" alt=\"Open In Colab\"/></a>"
      ]
    },
    {
      "cell_type": "markdown",
      "source": [
        "## 01\n",
        "- La serie de Fibonacci es una sucesión de números, en la cual cada número es la suma de los dos anteriores. Los dos primeros son siempre 0 y 1.\n",
        "  - $F_0 = 0$\n",
        "  - $F_1 = 1$\n",
        "  - $F_n = F_{n-1} + F_{n-2}$\n",
        "- Crear una serie de Fibonacci hasta un número *n* usando una función lambda.\n"
      ],
      "metadata": {
        "id": "nXm84vEOS8F1"
      }
    },
    {
      "cell_type": "code",
      "source": [
        "expected_fibo_serie = [0,1,1,2,3,5,8,13,21,34,55,89,144,233,377,610,987,1597]\n",
        "fibo_serie = fibonacci_lambda(len(expected_fibo_serie))  # This calls your lambda function fibonacci_lambda\n",
        "print(fibo_serie)\n",
        "assert(expected_fibo_serie == fibo_serie)  # This will fail if the serie is not correct"
      ],
      "metadata": {
        "colab": {
          "base_uri": "https://localhost:8080/",
          "height": 219
        },
        "id": "3ARMgHMtS_na",
        "outputId": "7e14ef34-eb21-4930-dacf-480310f4aad0"
      },
      "execution_count": 10,
      "outputs": [
        {
          "output_type": "stream",
          "name": "stdout",
          "text": [
            "[0, 1, 1, 2, 3, 5, 8, 13, 21, 34, 55, 89, 144, 233, 377, 610, 987, 1597, 2584, 4181]\n",
            "None\n"
          ]
        },
        {
          "output_type": "error",
          "ename": "AssertionError",
          "evalue": "",
          "traceback": [
            "\u001b[0;31m---------------------------------------------------------------------------\u001b[0m",
            "\u001b[0;31mAssertionError\u001b[0m                            Traceback (most recent call last)",
            "\u001b[0;32m<ipython-input-10-039dc64ea7b2>\u001b[0m in \u001b[0;36m<cell line: 4>\u001b[0;34m()\u001b[0m\n\u001b[1;32m      2\u001b[0m \u001b[0mfibo_serie\u001b[0m \u001b[0;34m=\u001b[0m \u001b[0mfibonacci_lambda\u001b[0m\u001b[0;34m(\u001b[0m\u001b[0mlen\u001b[0m\u001b[0;34m(\u001b[0m\u001b[0mexpected_fibo_serie\u001b[0m\u001b[0;34m)\u001b[0m\u001b[0;34m)\u001b[0m  \u001b[0;31m# This calls your lambda function fibonacci_lambda\u001b[0m\u001b[0;34m\u001b[0m\u001b[0;34m\u001b[0m\u001b[0m\n\u001b[1;32m      3\u001b[0m \u001b[0mprint\u001b[0m\u001b[0;34m(\u001b[0m\u001b[0mfibo_serie\u001b[0m\u001b[0;34m)\u001b[0m\u001b[0;34m\u001b[0m\u001b[0;34m\u001b[0m\u001b[0m\n\u001b[0;32m----> 4\u001b[0;31m \u001b[0;32massert\u001b[0m\u001b[0;34m(\u001b[0m\u001b[0mexpected_fibo_serie\u001b[0m \u001b[0;34m==\u001b[0m \u001b[0mfibo_serie\u001b[0m\u001b[0;34m)\u001b[0m  \u001b[0;31m# This will fail if the serie is not correct\u001b[0m\u001b[0;34m\u001b[0m\u001b[0;34m\u001b[0m\u001b[0m\n\u001b[0m",
            "\u001b[0;31mAssertionError\u001b[0m: "
          ]
        }
      ]
    },
    {
      "cell_type": "code",
      "source": [
        "# Your solution HERE !!!!\n",
        "array=[0,1]\n",
        "fibonacci_lambda= lambda x :[array.append(array[i]+array[i+1]) for i in range(x) ]\n",
        "# def fibonacci_lambda (x):\n",
        "#   array=[0,1]\n",
        "#   for i in range(x):\n",
        "#     array.append(array[i]+array[i+1])\n",
        "#   print(array)\n",
        "\n",
        "# (fibonacci_lambda(18))\n",
        "fibonacci_lambda(5)"
      ],
      "metadata": {
        "colab": {
          "base_uri": "https://localhost:8080/"
        },
        "id": "u2RPtKhWTE_7",
        "outputId": "4fc0534d-122d-4e33-e926-415a6aac9d7c"
      },
      "execution_count": 27,
      "outputs": [
        {
          "output_type": "execute_result",
          "data": {
            "text/plain": [
              "[None, None, None, None, None]"
            ]
          },
          "metadata": {},
          "execution_count": 27
        }
      ]
    },
    {
      "cell_type": "markdown",
      "source": [
        "## 02\n",
        "- Crear una función que reciba un array de NumPy y devuelva otro en el cual estén marcados como True los elementos duplicados (a partir de la segunda ocurrencia), y como False los no repetidos o las primeras ocurrencias de los duplicados."
      ],
      "metadata": {
        "id": "40xvrYI-THcB"
      }
    },
    {
      "cell_type": "code",
      "source": [
        "numbers = np.array([4, 4, 4, 3, 8, 1, 9, 6, 1, 5, 9, 4, 0, 2])\n",
        "expected_output = np.array([False, True, True, False, False, False, False, False, True, False, True, True, False, False])\n",
        "output = find_duplicates(numbers)   # This calls your function find_duplicates\n",
        "assert(np.array_equal(expected_output, output))  # This will fail if the result is not as expected"
      ],
      "metadata": {
        "id": "iE_nAW_tTKu0"
      },
      "execution_count": null,
      "outputs": []
    },
    {
      "cell_type": "code",
      "source": [
        "# Your solution HERE !!!!"
      ],
      "metadata": {
        "id": "gam9E1DfTOG8"
      },
      "execution_count": null,
      "outputs": []
    },
    {
      "cell_type": "markdown",
      "source": [
        "## 03\n",
        "- Resolución de dos sistemas de ecuaciones\n",
        "    - $ A : \\begin{cases} -9x +  4y = 20 \\\\ -7y + 16x = 80                         \\end{cases}$\n",
        "    \n",
        "    - $ B : \\begin{cases} x - 2y + 3z = 7 \\\\ 2x + y + z = 4 \\\\ -3x + 2y -2z = -10 \\end{cases}$\n",
        "- Verifica por código los resultados"
      ],
      "metadata": {
        "id": "FQopR6vhTQjz"
      }
    },
    {
      "cell_type": "code",
      "source": [
        "# Your solution HERE !!!!"
      ],
      "metadata": {
        "id": "Ai0LF-qHTVkT"
      },
      "execution_count": null,
      "outputs": []
    },
    {
      "cell_type": "markdown",
      "source": [
        "## 04\n",
        "- Crear un objeto Series con 10 elementos, que contenga más de un tipo básico, con índices de tipo string\n",
        "- Demuestra que los datos con índices posicionales son los mismos que los obtenidos con índices semánticos, seleccionando a través de slicing, al menos 4 elementos de la serie anterior"
      ],
      "metadata": {
        "id": "ADwwEvtOTbsT"
      }
    },
    {
      "cell_type": "code",
      "source": [
        "# Your solution HERE !!!!"
      ],
      "metadata": {
        "id": "RjOfHGPiTeec"
      },
      "execution_count": null,
      "outputs": []
    },
    {
      "cell_type": "markdown",
      "source": [
        "## 05\n",
        "- Crear un DataFrame de dimensiones 10x10, con números aleatorios en el rango `[0,20]`\n",
        "- Reemplazar todos aquellos elementos menores de 5 por NaN\n",
        "- Averiguar cuantos elementos tienen Nan por fila"
      ],
      "metadata": {
        "id": "Fw9P-EzCTtRj"
      }
    },
    {
      "cell_type": "code",
      "source": [
        "# Your solution HERE !!!!"
      ],
      "metadata": {
        "id": "X-eyxNyDTv96"
      },
      "execution_count": null,
      "outputs": []
    },
    {
      "cell_type": "markdown",
      "source": [
        "## 06\n",
        "- Dada una lista de elementos, crea una función que devuelva un dataframe sin los elementos duplicados"
      ],
      "metadata": {
        "id": "5SjR1AZ-Tgej"
      }
    },
    {
      "cell_type": "code",
      "source": [
        "serie = ['a','b','c','a','c','a','g']\n",
        "expected_output = pd.DataFrame(['a','b','c','g'])\n",
        "output = remove_duplicates(serie)   # This will call tour function remove_duplicates\n",
        "print(output)\n",
        "assert(expected_output.equals(output))  # This will fail if the result is not as expected"
      ],
      "metadata": {
        "id": "N2vxJHTETkDb"
      },
      "execution_count": null,
      "outputs": []
    },
    {
      "cell_type": "code",
      "source": [
        "# Your solution HERE !!!!"
      ],
      "metadata": {
        "id": "nwb2JNyMTqNd"
      },
      "execution_count": null,
      "outputs": []
    },
    {
      "cell_type": "markdown",
      "source": [
        "## 07 - 1pt\n",
        "- Escribir un generador `frange` que simule el comportamiento de la función `arange` de NumPy\n",
        "- Esta función cada vez que se invoque debe devolver valores espaciados uniformemente a partir de un valor inicial. Se debe proveer a dicha función un valor inicial para la secuencia de números y un valor para el step\n",
        "- Debe soportar valores númericos en coma flotante\n",
        "- La función potencialmente se puede llamar un número infinito de veces\n",
        "- Usando plain Python, sin ninguna librería"
      ],
      "metadata": {
        "id": "Nw1FvqrbTyw7"
      }
    },
    {
      "cell_type": "code",
      "source": [
        "import math\n",
        "\n",
        "init = 10.6\n",
        "step = 0.8\n",
        "g = frange(init, step)  # This calls your function frange\n",
        "\n",
        "iters = 10\n",
        "numbers = [next(g) for n in range(iters)]\n",
        "for i, n in enumerate(numbers):\n",
        "    assert(math.isclose(n, init + (step * i)))  # This will fail if the range is not properly created\\\n",
        "print(numbers)"
      ],
      "metadata": {
        "id": "s7ZWaWysT2Da"
      },
      "execution_count": null,
      "outputs": []
    },
    {
      "cell_type": "code",
      "source": [
        "# Your solution HERE !!!!"
      ],
      "metadata": {
        "id": "qPhRfQzyT5GE"
      },
      "execution_count": null,
      "outputs": []
    },
    {
      "cell_type": "markdown",
      "source": [
        "## 08\n",
        "- Crear una función que reciba una Serie de Pandas y devuelva esa misma serie, reemplazando los espacios en blanco por el carácter menos frecuente en dicha serie."
      ],
      "metadata": {
        "id": "HsbnHoOrT7T8"
      }
    },
    {
      "cell_type": "code",
      "source": [
        "serie = pd.Series(list('bba cabc faabba aacbbfe'))\n",
        "expected_output = pd.Series(list('bbaecabcefaabbaeaacbbfe'))\n",
        "output = clean_whitespace_replace(serie)  # This calls your function clean_whitespace_replace\n",
        "assert(expected_output.equals(output))  # This will fail if result is not as expected"
      ],
      "metadata": {
        "id": "-ufMmDuzT90M"
      },
      "execution_count": null,
      "outputs": []
    },
    {
      "cell_type": "code",
      "source": [
        "# Your solution HERE !!!!"
      ],
      "metadata": {
        "id": "05qEymesUAg7"
      },
      "execution_count": null,
      "outputs": []
    }
  ]
}