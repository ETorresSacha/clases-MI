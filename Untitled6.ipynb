{
  "nbformat": 4,
  "nbformat_minor": 0,
  "metadata": {
    "colab": {
      "provenance": [],
      "toc_visible": true,
      "authorship_tag": "ABX9TyMWyv4YELAR4vxk81iYFyxE",
      "include_colab_link": true
    },
    "kernelspec": {
      "name": "python3",
      "display_name": "Python 3"
    },
    "language_info": {
      "name": "python"
    }
  },
  "cells": [
    {
      "cell_type": "markdown",
      "metadata": {
        "id": "view-in-github",
        "colab_type": "text"
      },
      "source": [
        "<a href=\"https://colab.research.google.com/github/ETorresSacha/clases-MI/blob/main/Untitled6.ipynb\" target=\"_parent\"><img src=\"https://colab.research.google.com/assets/colab-badge.svg\" alt=\"Open In Colab\"/></a>"
      ]
    },
    {
      "cell_type": "markdown",
      "source": [
        "1. Escribe un programa que calcule la suma de todos los elementos de una lista dada. La lista sólo puede contener elementos numéricos."
      ],
      "metadata": {
        "id": "s_Dwlntqek0o"
      }
    },
    {
      "cell_type": "code",
      "source": [
        "x= (1,2,3,20)\n",
        "y=0\n",
        "for n in x:\n",
        "    y+=n\n",
        "print(y)"
      ],
      "metadata": {
        "id": "T2nM-XMSeqYW",
        "outputId": "b340def2-1151-4893-bdb1-0d6b5b118d04",
        "colab": {
          "base_uri": "https://localhost:8080/"
        }
      },
      "execution_count": 1,
      "outputs": [
        {
          "output_type": "stream",
          "name": "stdout",
          "text": [
            "26\n"
          ]
        }
      ]
    },
    {
      "cell_type": "markdown",
      "source": [
        "2. Dada una lista con elementos duplicados, escribir un programa que muestre una nueva lista con el mismo contenido que la primera pero sin elementos duplicados. Para este ejercicio, no puedes hacer uso de objetos de tipo 'Set'."
      ],
      "metadata": {
        "id": "sYF35Vx1e0LS"
      }
    },
    {
      "cell_type": "code",
      "source": [
        "lista= [1,1,1,0,0,2,3,5,4,6,2,9,8,7,9]\n",
        "y=[]\n",
        "for n in lista:\n",
        "    if n not in y:\n",
        "        y.append(n)\n",
        "        y.sort()\n",
        "\n",
        "print(y)"
      ],
      "metadata": {
        "id": "LCGbH-bxe3Ix"
      },
      "execution_count": null,
      "outputs": []
    },
    {
      "cell_type": "markdown",
      "source": [
        "3. Escribe un programa que construya un diccionario que contenga un número (entre 1 y n) de elementos de esta forma: (x, x*x). Ejemplo: para n = 5, el diccionario resultante sería {1: 1, 2: 4, 3: 9, 4: 16, 5: 25}"
      ],
      "metadata": {
        "id": "47CFtSYTe54w"
      }
    },
    {
      "cell_type": "code",
      "source": [
        "n=int(input(\"ingrese un número entre 1-5: \"))\n",
        "y={}\n",
        "for i in range(1,n+1):\n",
        "    y[i]=i*i\n",
        "print(y)"
      ],
      "metadata": {
        "id": "OaTE_MtGe8vJ"
      },
      "execution_count": null,
      "outputs": []
    },
    {
      "cell_type": "markdown",
      "source": [
        "4. Escribe un programa que, dada una lista de palabras, compruebe si alguna empieza por 'a' y tiene más de 9 caracteres. Si dicha palabra existe, el programa deberá terminar en el momento exacto de encontrarla. El programa también debe mostrar un mensaje apropiado por pantalla que indique el éxito o el fracaso de la búsqueda. En caso de éxito, también se mostrará por pantalla la palabra encontrada."
      ],
      "metadata": {
        "id": "3IpcMGjOe_LR"
      }
    },
    {
      "cell_type": "code",
      "source": [
        "x=[\"amor\",\"m\", \"calma\", \"perdición\", \"mejorar\"]\n",
        "for palabra in x:\n",
        "    if palabra[0]== \"a\" and len(palabra)>=9:\n",
        "        print(f\"Se ha encontrado la palabra buscada: {palabra}\")\n",
        "        break\n",
        "\n",
        "else: print(\"Lo sentimos no se ha podido encontra ningún caracter\")"
      ],
      "metadata": {
        "id": "9RRysW16fBZY",
        "outputId": "ee3ad3a3-6f06-4312-d7bb-dbde795cd104",
        "colab": {
          "base_uri": "https://localhost:8080/"
        }
      },
      "execution_count": 11,
      "outputs": [
        {
          "output_type": "stream",
          "name": "stdout",
          "text": [
            "Lo sentimos no se ha podido encontra ningún caracter\n"
          ]
        }
      ]
    },
    {
      "cell_type": "markdown",
      "source": [
        "5. Dada una lista L de números positivos, escribir un programa que muestre otra lista (ordenada) que contenga todo índice i que cumpla la siguiente condición: L[i] es múltiplo de 3. Por ejemplo, dada la lista L = [3,5,13,12,1,9] el programa mostrará la lista [0,3,5] dado que L[0], L[3] y L[5] son, respectivamente, 3, 12 y 9, que son los únicos múltiplos de 3 que hay en L."
      ],
      "metadata": {
        "id": "b2KY3y0_fDog"
      }
    },
    {
      "cell_type": "code",
      "source": [
        "n= int(input(\"Ingrese el número: \"))\n",
        "L= [3,5,13,12,1,9]\n",
        "lista=[]\n",
        "for i in L:\n",
        "  if i%3==0:\n",
        "    lista.append(i)\n",
        "\n",
        "print(lista)\n",
        "\n"
      ],
      "metadata": {
        "id": "DCl8xSCJfGMQ",
        "outputId": "41ec0103-2c1e-4f9b-9c62-e64043d161e1",
        "colab": {
          "base_uri": "https://localhost:8080/"
        }
      },
      "execution_count": 12,
      "outputs": [
        {
          "output_type": "stream",
          "name": "stdout",
          "text": [
            "Ingrese el número: 3\n",
            "[3, 12, 9]\n"
          ]
        }
      ]
    },
    {
      "cell_type": "markdown",
      "source": [
        "6. Dado un diccionario cuyos elementos son pares de tipo string y numérico (es decir, las claves son de tipo 'str' y los valores son de tipo 'int' o 'float'), escribe un programa que muestre por pantalla la clave cuyo valor asociado representa el valor númerico más alto de todo el diccionario. Por ejemplo, para el diccionario {'a': 4.3, 'b': 1, 'c': 7.8, 'd': -5} la respuesta sería 'c', dado que 7.8 es el valor más alto de los números 4.3, 1, 7.8 y -5."
      ],
      "metadata": {
        "id": "zJcLcnzzh1Og"
      }
    },
    {
      "cell_type": "code",
      "source": [
        "dic={'a': 10, 'b': 1, 'c': 50, 'd': -5}\n",
        "b=float(\"-inf\")\n",
        "e=0\n",
        "for i in dic:\n",
        "  if float(dic[i])>float(b):\n",
        "    b=dic[i]\n",
        "    e=i\n",
        "print(e)\n",
        "\n",
        "# otro forma\n",
        "maximo= float(\"-inf\")\n",
        "for clave, valor in dic.items():\n",
        "  if valor > maximo:\n",
        "    maximo = valor\n",
        "    resultado = clave\n",
        "print(resultado)\n"
      ],
      "metadata": {
        "id": "We4YFh8Yh3VP",
        "outputId": "8859a298-44f4-4f4f-d926-6360225fc11c",
        "colab": {
          "base_uri": "https://localhost:8080/"
        }
      },
      "execution_count": 37,
      "outputs": [
        {
          "output_type": "stream",
          "name": "stdout",
          "text": [
            "c\n",
            "c\n"
          ]
        }
      ]
    },
    {
      "cell_type": "markdown",
      "source": [
        "7. Dada la lista a = [2, 4, 6, 8] y la lista b = [7, 11, 15, 22], escribe un programa que itere las listas a y b y multiplique cada elemento de a que sea mayor que 5 por cada elemento de b que sea menor que 14. El programa debe mostrar los resultados por pantalla."
      ],
      "metadata": {
        "id": "3YTYq3Bqp_Mf"
      }
    },
    {
      "cell_type": "code",
      "source": [
        "a = [2, 4, 6, 8]\n",
        "b = [7, 11, 15, 22]\n",
        "for i in range(len(a)):\n",
        "  if a[i]>5:\n",
        "    for y in range(len(b)):\n",
        "      if b[y]<14:\n",
        "        resultado = a[i]*b[y]\n",
        "    print(resultado)\n",
        "\n",
        "\n",
        "# OTRA FORMA\n",
        "for i in a:\n",
        "  if i > 5:\n",
        "    for j in b:\n",
        "      if j < 14:\n",
        "        resultado= i*j\n",
        "    print(resultado)"
      ],
      "metadata": {
        "id": "F9Oyz47WqBRX",
        "outputId": "14f07637-32e8-46b8-c77a-229f7c7b8dac",
        "colab": {
          "base_uri": "https://localhost:8080/"
        }
      },
      "execution_count": 46,
      "outputs": [
        {
          "output_type": "stream",
          "name": "stdout",
          "text": [
            "66\n",
            "88\n",
            "66\n",
            "88\n"
          ]
        }
      ]
    },
    {
      "cell_type": "markdown",
      "source": [
        "8. Escribir un programa que pida un valor numérico X al usuario. Para ello podéis hacer uso de la función predefinida 'input'. El programa deberá mostrar por pantalla el resultado de la división 10/X. En caso de que el usuario introduzca valores no apropiados, el programa deberá gestionar correctamente las excepciones, por ejemplo, mostrando mensajes informativos por pantalla."
      ],
      "metadata": {
        "id": "8lp2HPvYsAqw"
      }
    },
    {
      "cell_type": "code",
      "source": [
        "try:\n",
        "    x = input()\n",
        "    numero = float(x)\n",
        "    print(f\"El resultado de 10/{x} es: {10/numero}\")\n",
        "except ValueError:\n",
        "    print(f\"El valor '{x}' no es numérico\")\n",
        "except ZeroDivisionError:\n",
        "    print(\"Error: división por cero\")"
      ],
      "metadata": {
        "id": "ry264l9EsCYK",
        "outputId": "31a10bf7-d3f0-4149-cd19-0613227e2672",
        "colab": {
          "base_uri": "https://localhost:8080/"
        }
      },
      "execution_count": 52,
      "outputs": [
        {
          "output_type": "stream",
          "name": "stdout",
          "text": [
            "hh\n",
            "El valor 'hh' no es numérico\n"
          ]
        }
      ]
    },
    {
      "cell_type": "markdown",
      "source": [
        "9. Escribir un programa que cree un diccionario cualquiera. Posteriormente, el programa pedirá al usuario (a través de la función predefinida 'input') que introduzca una clave del diccionario. Si la clave introducida es correcta (es decir, existe en el diccionario), el programa mostrará por pantalla el valor asociado a dicha clave. En caso de que la clave no exista, el programa gestionará de manera apropiada el error, por ejemplo, mostrando un mensaje informativo al usuario."
      ],
      "metadata": {
        "id": "ek7OZVS_uKvv"
      }
    },
    {
      "cell_type": "code",
      "source": [
        "x = input(\"ingrese el valor: \")\n",
        "dic={\"a\":1,\"b\":2,\"c\":3}\n",
        "for clave, valor in dic.items():\n",
        "  if clave == x:\n",
        "    print(f\"El valor es: {valor}\")\n",
        "    break\n",
        "else: print(\"No existe ningún valor\")\n",
        "\n",
        "# otra forma\n",
        "notas = {'Programación': 9.5, \"Inteligencia artificial\": 7.6, \"Redes\": 5.2, \"Sistemas operativos\": 6.4}\n",
        "\n",
        "try:\n",
        "    asignatura = input(\"Introduce una asignatura\")\n",
        "    print(f\"La nota de la asignatura '{asignatura}' es: {notas[asignatura]}\")\n",
        "except KeyError:\n",
        "    print(f\"Asignatura incorrecta: {asignatura}\")"
      ],
      "metadata": {
        "id": "cK6hX6bKuNIw",
        "outputId": "3da45bc4-026e-4ee5-a27b-3ee94476b7e2",
        "colab": {
          "base_uri": "https://localhost:8080/"
        }
      },
      "execution_count": 62,
      "outputs": [
        {
          "output_type": "stream",
          "name": "stdout",
          "text": [
            "ingrese el valor: b\n",
            "El valor es: 2\n",
            "Introduce una asignaturag\n",
            "Asignatura incorrecta: g\n"
          ]
        }
      ]
    },
    {
      "cell_type": "markdown",
      "source": [
        "10. Escribe una list comprehension que construya una lista con los números enteros positivos de una lista de números dada. La lista original puede incluir números de tipo float, los cuales deben ser descartados."
      ],
      "metadata": {
        "id": "KKsaoqgJwudJ"
      }
    },
    {
      "cell_type": "code",
      "source": [
        "lista = [1, 2, 0.5, 4.5, -5,8]\n",
        "nuevaLista=[x for x in lista if type(x)== int and x > 0 ]\n",
        "\n",
        "print(nuevaLista)\n",
        "\n",
        "lista = [1, 4, -3, -1.5, 6.5, 2, 8, 2.1]\n",
        "\n",
        "[numero for numero in lista if type(numero) == int and numero > 0]"
      ],
      "metadata": {
        "id": "E7RzgApWw0LX",
        "outputId": "e6363e32-88ca-4424-8eb7-e1cf587bf6b0",
        "colab": {
          "base_uri": "https://localhost:8080/"
        }
      },
      "execution_count": 78,
      "outputs": [
        {
          "output_type": "stream",
          "name": "stdout",
          "text": [
            "[1, 2, 8]\n"
          ]
        },
        {
          "output_type": "execute_result",
          "data": {
            "text/plain": [
              "[1, 4, 2, 8]"
            ]
          },
          "metadata": {},
          "execution_count": 78
        }
      ]
    }
  ]
}