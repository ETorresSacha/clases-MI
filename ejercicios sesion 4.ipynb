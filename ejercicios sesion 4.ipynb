{
  "nbformat": 4,
  "nbformat_minor": 0,
  "metadata": {
    "colab": {
      "provenance": [],
      "authorship_tag": "ABX9TyNtCzxTgnwRfwuWagBODODi",
      "include_colab_link": true
    },
    "kernelspec": {
      "name": "python3",
      "display_name": "Python 3"
    },
    "language_info": {
      "name": "python"
    }
  },
  "cells": [
    {
      "cell_type": "markdown",
      "metadata": {
        "id": "view-in-github",
        "colab_type": "text"
      },
      "source": [
        "<a href=\"https://colab.research.google.com/github/ETorresSacha/clases-MI/blob/main/ejercicios%20sesion%204.ipynb\" target=\"_parent\"><img src=\"https://colab.research.google.com/assets/colab-badge.svg\" alt=\"Open In Colab\"/></a>"
      ]
    },
    {
      "cell_type": "markdown",
      "source": [
        "1. Escribe una función que reciba como entrada una lista con números y devuelva como resultado una lista con los cuadrados de los números contenidos en la lista de entrada."
      ],
      "metadata": {
        "id": "f5jX99A0IHcY"
      }
    },
    {
      "cell_type": "code",
      "source": [
        "[x**2 for x in range(1,10)]\n",
        "# otra forma\n",
        "def numeroCuadrado(lista):\n",
        "  listaNueva= []\n",
        "  for i in lista:\n",
        "    listaNueva.append(i**2)\n",
        "  return listaNueva\n",
        "\n",
        "print(numeroCuadrado([1,2,3,4,5]))"
      ],
      "metadata": {
        "colab": {
          "base_uri": "https://localhost:8080/"
        },
        "id": "2wxcUP_sIJaP",
        "outputId": "5891089e-947f-4df8-8700-8cf4ea920b4d"
      },
      "execution_count": null,
      "outputs": [
        {
          "output_type": "stream",
          "name": "stdout",
          "text": [
            "[1, 4, 9, 16, 25]\n"
          ]
        }
      ]
    },
    {
      "cell_type": "markdown",
      "source": [
        "2. Escribe una función que reciba números como entrada y devuelva la suma de los mismos. La función debe ser capaz de recibir una cantidad indeterminada de números. La función no debe recibir directamente ningún objeto complejo (lista, conjunto, etc.)."
      ],
      "metadata": {
        "id": "AbXpkZZCJhoQ"
      }
    },
    {
      "cell_type": "code",
      "source": [
        "def suma(*args):\n",
        "  return sum(args)\n",
        "\n",
        "print(suma(1,2,3))\n",
        "\n",
        "#otra forma\n",
        "def NuevaSuma(*numeros):\n",
        "  result = 0\n",
        "  for i in numeros:\n",
        "    result += i\n",
        "  return result\n",
        "\n",
        "print(NuevaSuma(1,2,3))"
      ],
      "metadata": {
        "colab": {
          "base_uri": "https://localhost:8080/"
        },
        "id": "_Ym0rbVrJj_t",
        "outputId": "fbf354f5-9f18-4d28-dba1-d568fd76b3ea"
      },
      "execution_count": null,
      "outputs": [
        {
          "output_type": "stream",
          "name": "stdout",
          "text": [
            "6\n",
            "6\n"
          ]
        }
      ]
    },
    {
      "cell_type": "markdown",
      "source": [
        "3. Escribe una función que reciba un string como entrada y devuelva el string al revés. Ejemplo: si el string de entrada es 'hola', el resultado será 'aloh'."
      ],
      "metadata": {
        "id": "FkdchZzELHpv"
      }
    },
    {
      "cell_type": "code",
      "source": [
        "def invertir(palabra):\n",
        "  return palabra[::-1]\n",
        "\n",
        "print(invertir(\"hola\"))\n",
        "\n",
        "# otra forma\n",
        "def invertirPalabra(palabra):\n",
        "  return \"\".join(reversed(palabra))\n",
        "\n",
        "print(invertirPalabra(\"hola\"))\n",
        "\n",
        "def invertir(s):\n",
        "    s_invertida = \"\"\n",
        "    for caracter in s:\n",
        "      s_invertida = caracter + s_invertida\n",
        "    return s_invertida\n",
        "\n",
        "print(invertir(\"hola\"))"
      ],
      "metadata": {
        "colab": {
          "base_uri": "https://localhost:8080/"
        },
        "id": "0hRHohn0LJE-",
        "outputId": "ade74946-f432-40a8-9348-ecb577c2488d"
      },
      "execution_count": null,
      "outputs": [
        {
          "output_type": "stream",
          "name": "stdout",
          "text": [
            "aloh\n",
            "aloh\n",
            "aloh\n"
          ]
        }
      ]
    },
    {
      "cell_type": "markdown",
      "source": [
        "4. Escribe una función lambda que, al igual que la función desarrollada en el ejercicio anterior, invierta el string recibido como parámetro. Ejemplo: si el string de entrada es 'hola', el resultado será 'aloh'."
      ],
      "metadata": {
        "id": "KbUHZVoDPZ-o"
      }
    },
    {
      "cell_type": "code",
      "source": [
        "invertir = lambda palabra : palabra[::-1]\n",
        "print(invertir(\"hola\"))"
      ],
      "metadata": {
        "colab": {
          "base_uri": "https://localhost:8080/"
        },
        "id": "up7lSl-nPbT3",
        "outputId": "ff62c691-3659-4c75-d454-77b72435e49b"
      },
      "execution_count": null,
      "outputs": [
        {
          "output_type": "stream",
          "name": "stdout",
          "text": [
            "aloh\n"
          ]
        }
      ]
    },
    {
      "cell_type": "markdown",
      "source": [
        "5. Escribe una función que compruebe si un número se encuentra dentro de un rango específico."
      ],
      "metadata": {
        "id": "dMy0uK3dQwaX"
      }
    },
    {
      "cell_type": "code",
      "source": [
        "def dentro (numero, lista):\n",
        "  for i in lista:\n",
        "    if i == numero:\n",
        "      return f\"El numero es: {i}\"\n",
        "  else: return \"El numero no se encuentra\"\n",
        "print(dentro(6,range(1,5)))\n",
        "\n",
        "#otra forma\n",
        "def contenido_en_rango(numero, rango):\n",
        "    return numero in range(rango[0], rango[1])\n",
        "\n",
        "rango = (1,5)\n",
        "print(contenido_en_rango(2, rango))\n",
        "print(contenido_en_rango(6, rango))"
      ],
      "metadata": {
        "colab": {
          "base_uri": "https://localhost:8080/"
        },
        "id": "RhshB85iQyWE",
        "outputId": "b029b41f-e19d-4d8c-abf7-a544f31673d0"
      },
      "execution_count": null,
      "outputs": [
        {
          "output_type": "stream",
          "name": "stdout",
          "text": [
            "El numero no se encuentra\n",
            "True\n",
            "False\n"
          ]
        }
      ]
    },
    {
      "cell_type": "markdown",
      "source": [
        "6. Escribe una función que reciba un número entero positivo como parámetro y devuelva una lista que contenga los 5 primeros múltiplos de dicho número. Por ejemplo, si la función recibe el número 3, devolverá la lista [3, 6, 9, 12, 15]. Si la función recibe un parámetro incorrecto (por ejemplo, un múmero menor o igual a cero), mostrará un mensaje de error por pantalla y devolverá una lista vacía."
      ],
      "metadata": {
        "id": "-1xxmWxNbEzq"
      }
    },
    {
      "cell_type": "code",
      "source": [
        "def multiplos(numero):\n",
        "  lista=[]\n",
        "  if numero <= 0:\n",
        "    return \" El numero no es válido\",lista\n",
        "  else:\n",
        "    for i in range (1,6):\n",
        "      lista.append(numero*i)\n",
        "  return lista\n",
        "\n",
        "print(multiplos(0))\n",
        "#otra forma\n",
        "def primeros_5_multiplos(numero):\n",
        "    if numero <= 0:\n",
        "        print(\"Número incorrecto: debe ser mayor que cero.\")\n",
        "        return []\n",
        "\n",
        "    multiplos = []\n",
        "    for i in range(1, 6):\n",
        "        multiplos.append(numero*i)\n",
        "    return multiplos\n",
        "\n",
        "print(primeros_5_multiplos(3))\n",
        "print(primeros_5_multiplos(0))"
      ],
      "metadata": {
        "id": "zRDABoYZbJ2I",
        "outputId": "3aa1cc0d-c259-4e97-e5dc-6e1d84b64560",
        "colab": {
          "base_uri": "https://localhost:8080/"
        }
      },
      "execution_count": 29,
      "outputs": [
        {
          "output_type": "stream",
          "name": "stdout",
          "text": [
            "(' El numero no es válido', [])\n",
            "[3, 6, 9, 12, 15]\n",
            "Número incorrecto: debe ser mayor que cero.\n",
            "[]\n"
          ]
        }
      ]
    },
    {
      "cell_type": "markdown",
      "source": [
        "7. Escribe una función que reciba una lista como parámetro y compruebe si la lista tiene duplicados. La función devolverá True si la lista tiene duplicados y False si no los tiene."
      ],
      "metadata": {
        "id": "YZbvxtR-dMYK"
      }
    },
    {
      "cell_type": "code",
      "source": [
        "def duplicados(lista):\n",
        "  nuevaLista =  set(lista)\n",
        "  return len(nuevaLista)==len(lista)\n",
        "\n",
        "\n",
        "print(duplicados([1,2,3]))\n",
        "\n",
        "#otra forma\n",
        "def contiene_duplicados(lista):\n",
        "    objetos_ya_vistos = set()\n",
        "    for objeto in lista:\n",
        "        if objeto in objetos_ya_vistos:\n",
        "            return True\n",
        "        objetos_ya_vistos.add(objeto)\n",
        "    return False\n",
        "\n",
        "print(contiene_duplicados([1,2,3,4,5]))\n",
        "print(contiene_duplicados([1,2,3,4,5,5,5]))\n"
      ],
      "metadata": {
        "id": "r-Lz8PapdRcf",
        "outputId": "fa92225e-6a68-45e2-938a-0792b14fbb1e",
        "colab": {
          "base_uri": "https://localhost:8080/"
        }
      },
      "execution_count": 39,
      "outputs": [
        {
          "output_type": "stream",
          "name": "stdout",
          "text": [
            "True\n"
          ]
        }
      ]
    },
    {
      "cell_type": "markdown",
      "source": [
        "8. Escribe una función lambda que, al igual que la función desarrollada en el ejercicio anterior, reciba una lista como parámetro y compruebe si la lista tiene duplicados. La función devolverá True si la lista tiene duplicados y False si no los tiene."
      ],
      "metadata": {
        "id": "iWecgLe6ewsR"
      }
    },
    {
      "cell_type": "code",
      "source": [
        "repetido = lambda lista: len(lista) == len(set(lista))\n",
        "print(repetido([1,2,2,3]))\n",
        "\n",
        "#otra solucion\n",
        "contiene_duplicados = lambda lista : len(lista) != len(set(lista))\n",
        "\n",
        "print(contiene_duplicados([1,2,3,4,5]))\n",
        "print(contiene_duplicados([1,2,3,4,5,5,5]))"
      ],
      "metadata": {
        "id": "eKzLguv_e0zp",
        "outputId": "29bd68a3-48e8-41f8-cd88-68d8a12e2098",
        "colab": {
          "base_uri": "https://localhost:8080/"
        }
      },
      "execution_count": 42,
      "outputs": [
        {
          "output_type": "stream",
          "name": "stdout",
          "text": [
            "False\n"
          ]
        }
      ]
    },
    {
      "cell_type": "markdown",
      "source": [
        "9. Escribe una función que compruebe si un string dado es un palíndromo. Un palíndromo es una secuencia de caracteres que se lee igual de izquierda a derecha que de derecha a izquierda. Por ejemplo, la función devolverá True si recibe el string \"reconocer\" y False si recibe el string \"python\".,"
      ],
      "metadata": {
        "id": "uaxpy_IQ8DRl"
      }
    },
    {
      "cell_type": "code",
      "source": [
        "def polindromo(palabra):\n",
        "  return True if palabra == \"\".join(reversed(palabra)) else False\n",
        "\n",
        "print(polindromo(\"reconocer\"))\n",
        "\n",
        "# otra forma\n",
        "def es_palindromo(s):\n",
        "    for i in range(len(s)//2):\n",
        "        if s[i] != s[len(s)-i-1]:\n",
        "            return False\n",
        "    return True\n",
        "\n",
        "print(es_palindromo(\"reconocer\"))\n",
        "print(es_palindromo(\"python\"))\n"
      ],
      "metadata": {
        "id": "J-KA3i9S8GNq",
        "outputId": "bb914afc-89ba-410e-9d7b-39b6864bc321",
        "colab": {
          "base_uri": "https://localhost:8080/"
        }
      },
      "execution_count": 15,
      "outputs": [
        {
          "output_type": "stream",
          "name": "stdout",
          "text": [
            "True\n"
          ]
        }
      ]
    }
  ]
}