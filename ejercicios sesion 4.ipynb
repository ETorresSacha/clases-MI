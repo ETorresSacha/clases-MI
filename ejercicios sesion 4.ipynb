{
  "nbformat": 4,
  "nbformat_minor": 0,
  "metadata": {
    "colab": {
      "provenance": [],
      "authorship_tag": "ABX9TyM+3kq52Xph9W5gmw8d4Lug",
      "include_colab_link": true
    },
    "kernelspec": {
      "name": "python3",
      "display_name": "Python 3"
    },
    "language_info": {
      "name": "python"
    }
  },
  "cells": [
    {
      "cell_type": "markdown",
      "metadata": {
        "id": "view-in-github",
        "colab_type": "text"
      },
      "source": [
        "<a href=\"https://colab.research.google.com/github/ETorresSacha/clases-MI/blob/main/ejercicios%20sesion%204.ipynb\" target=\"_parent\"><img src=\"https://colab.research.google.com/assets/colab-badge.svg\" alt=\"Open In Colab\"/></a>"
      ]
    },
    {
      "cell_type": "markdown",
      "source": [
        "1. Escribe una función que reciba como entrada una lista con números y devuelva como resultado una lista con los cuadrados de los números contenidos en la lista de entrada."
      ],
      "metadata": {
        "id": "f5jX99A0IHcY"
      }
    },
    {
      "cell_type": "code",
      "source": [
        "[x**2 for x in range(1,10)]\n",
        "# otra forma\n",
        "def numeroCuadrado(lista):\n",
        "  listaNueva= []\n",
        "  for i in lista:\n",
        "    listaNueva.append(i**2)\n",
        "  return listaNueva\n",
        "\n",
        "print(numeroCuadrado([1,2,3,4,5]))"
      ],
      "metadata": {
        "colab": {
          "base_uri": "https://localhost:8080/"
        },
        "id": "2wxcUP_sIJaP",
        "outputId": "5891089e-947f-4df8-8700-8cf4ea920b4d"
      },
      "execution_count": 3,
      "outputs": [
        {
          "output_type": "stream",
          "name": "stdout",
          "text": [
            "[1, 4, 9, 16, 25]\n"
          ]
        }
      ]
    },
    {
      "cell_type": "markdown",
      "source": [
        "2. Escribe una función que reciba números como entrada y devuelva la suma de los mismos. La función debe ser capaz de recibir una cantidad indeterminada de números. La función no debe recibir directamente ningún objeto complejo (lista, conjunto, etc.)."
      ],
      "metadata": {
        "id": "AbXpkZZCJhoQ"
      }
    },
    {
      "cell_type": "code",
      "source": [
        "def suma(*args):\n",
        "  return sum(args)\n",
        "\n",
        "print(suma(1,2,3))\n",
        "\n",
        "#otra forma\n",
        "def NuevaSuma(*numeros):\n",
        "  result = 0\n",
        "  for i in numeros:\n",
        "    result += i\n",
        "  return result\n",
        "\n",
        "print(NuevaSuma(1,2,3))"
      ],
      "metadata": {
        "colab": {
          "base_uri": "https://localhost:8080/"
        },
        "id": "_Ym0rbVrJj_t",
        "outputId": "fbf354f5-9f18-4d28-dba1-d568fd76b3ea"
      },
      "execution_count": 8,
      "outputs": [
        {
          "output_type": "stream",
          "name": "stdout",
          "text": [
            "6\n",
            "6\n"
          ]
        }
      ]
    },
    {
      "cell_type": "markdown",
      "source": [
        "3. Escribe una función que reciba un string como entrada y devuelva el string al revés. Ejemplo: si el string de entrada es 'hola', el resultado será 'aloh'."
      ],
      "metadata": {
        "id": "FkdchZzELHpv"
      }
    },
    {
      "cell_type": "code",
      "source": [
        "def invertir(palabra):\n",
        "  return palabra[::-1]\n",
        "\n",
        "print(invertir(\"hola\"))\n",
        "\n",
        "# otra forma\n",
        "def invertirPalabra(palabra):\n",
        "  return \"\".join(reversed(palabra))\n",
        "\n",
        "print(invertirPalabra(\"hola\"))\n",
        "\n",
        "def invertir(s):\n",
        "    s_invertida = \"\"\n",
        "    for caracter in s:\n",
        "      s_invertida = caracter + s_invertida\n",
        "    return s_invertida\n",
        "\n",
        "print(invertir(\"hola\"))"
      ],
      "metadata": {
        "colab": {
          "base_uri": "https://localhost:8080/"
        },
        "id": "0hRHohn0LJE-",
        "outputId": "ade74946-f432-40a8-9348-ecb577c2488d"
      },
      "execution_count": 30,
      "outputs": [
        {
          "output_type": "stream",
          "name": "stdout",
          "text": [
            "aloh\n",
            "aloh\n",
            "aloh\n"
          ]
        }
      ]
    },
    {
      "cell_type": "markdown",
      "source": [
        "4. Escribe una función lambda que, al igual que la función desarrollada en el ejercicio anterior, invierta el string recibido como parámetro. Ejemplo: si el string de entrada es 'hola', el resultado será 'aloh'."
      ],
      "metadata": {
        "id": "KbUHZVoDPZ-o"
      }
    },
    {
      "cell_type": "code",
      "source": [
        "invertir = lambda palabra : palabra[::-1]\n",
        "print(invertir(\"hola\"))"
      ],
      "metadata": {
        "colab": {
          "base_uri": "https://localhost:8080/"
        },
        "id": "up7lSl-nPbT3",
        "outputId": "ff62c691-3659-4c75-d454-77b72435e49b"
      },
      "execution_count": 31,
      "outputs": [
        {
          "output_type": "stream",
          "name": "stdout",
          "text": [
            "aloh\n"
          ]
        }
      ]
    },
    {
      "cell_type": "markdown",
      "source": [
        "5. Escribe una función que compruebe si un número se encuentra dentro de un rango específico."
      ],
      "metadata": {
        "id": "dMy0uK3dQwaX"
      }
    },
    {
      "cell_type": "code",
      "source": [
        "def dentro (numero, lista):\n",
        "  for i in lista:\n",
        "    if i == numero:\n",
        "      return f\"El numero es: {i}\"\n",
        "  else: return \"El numero no se encuentra\"\n",
        "print(dentro(6,range(1,5)))\n",
        "\n",
        "#otra forma\n",
        "def contenido_en_rango(numero, rango):\n",
        "    return numero in range(rango[0], rango[1])\n",
        "\n",
        "rango = (1,5)\n",
        "print(contenido_en_rango(2, rango))\n",
        "print(contenido_en_rango(6, rango))"
      ],
      "metadata": {
        "colab": {
          "base_uri": "https://localhost:8080/"
        },
        "id": "RhshB85iQyWE",
        "outputId": "b029b41f-e19d-4d8c-abf7-a544f31673d0"
      },
      "execution_count": 39,
      "outputs": [
        {
          "output_type": "stream",
          "name": "stdout",
          "text": [
            "El numero no se encuentra\n",
            "True\n",
            "False\n"
          ]
        }
      ]
    }
  ]
}