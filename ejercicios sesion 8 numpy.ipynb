{
  "nbformat": 4,
  "nbformat_minor": 0,
  "metadata": {
    "colab": {
      "provenance": [],
      "authorship_tag": "ABX9TyPauGNA9YBKTTAelNtiTRjW",
      "include_colab_link": true
    },
    "kernelspec": {
      "name": "python3",
      "display_name": "Python 3"
    },
    "language_info": {
      "name": "python"
    }
  },
  "cells": [
    {
      "cell_type": "markdown",
      "metadata": {
        "id": "view-in-github",
        "colab_type": "text"
      },
      "source": [
        "<a href=\"https://colab.research.google.com/github/ETorresSacha/clases-MI/blob/main/ejercicios%20sesion%208%20numpy.ipynb\" target=\"_parent\"><img src=\"https://colab.research.google.com/assets/colab-badge.svg\" alt=\"Open In Colab\"/></a>"
      ]
    },
    {
      "cell_type": "markdown",
      "source": [
        "\n",
        "1. Import the numpy package under the name np (★☆☆)"
      ],
      "metadata": {
        "id": "J_HXc2D0d-ZH"
      }
    },
    {
      "cell_type": "code",
      "source": [
        "import numpy as np"
      ],
      "metadata": {
        "id": "kozUP3xhd_sv"
      },
      "execution_count": 2,
      "outputs": []
    },
    {
      "cell_type": "markdown",
      "source": [
        "2. Print the numpy version and the configuration (★☆☆)"
      ],
      "metadata": {
        "id": "zROaccQhd_5_"
      }
    },
    {
      "cell_type": "code",
      "source": [
        "print(np.__version__)"
      ],
      "metadata": {
        "colab": {
          "base_uri": "https://localhost:8080/"
        },
        "id": "IaR4vKL2eNpd",
        "outputId": "44f822c4-36a1-41b8-b30e-33d716d2290e"
      },
      "execution_count": 3,
      "outputs": [
        {
          "output_type": "stream",
          "name": "stdout",
          "text": [
            "1.26.4\n"
          ]
        }
      ]
    },
    {
      "cell_type": "markdown",
      "source": [
        "3. Create a null vector of size 10 (★☆☆)"
      ],
      "metadata": {
        "id": "uZlPsQDDeyeW"
      }
    },
    {
      "cell_type": "code",
      "source": [
        "vector = np.zeros((10,10))\n",
        "print(vector)"
      ],
      "metadata": {
        "colab": {
          "base_uri": "https://localhost:8080/"
        },
        "id": "vjofQOT4e0_1",
        "outputId": "9a1b4d2e-c767-451d-86b0-68274ea2244b"
      },
      "execution_count": 14,
      "outputs": [
        {
          "output_type": "stream",
          "name": "stdout",
          "text": [
            "[[0. 0. 0. 0. 0. 0. 0. 0. 0. 0.]\n",
            " [0. 0. 0. 0. 0. 0. 0. 0. 0. 0.]\n",
            " [0. 0. 0. 0. 0. 0. 0. 0. 0. 0.]\n",
            " [0. 0. 0. 0. 0. 0. 0. 0. 0. 0.]\n",
            " [0. 0. 0. 0. 0. 0. 0. 0. 0. 0.]\n",
            " [0. 0. 0. 0. 0. 0. 0. 0. 0. 0.]\n",
            " [0. 0. 0. 0. 0. 0. 0. 0. 0. 0.]\n",
            " [0. 0. 0. 0. 0. 0. 0. 0. 0. 0.]\n",
            " [0. 0. 0. 0. 0. 0. 0. 0. 0. 0.]\n",
            " [0. 0. 0. 0. 0. 0. 0. 0. 0. 0.]]\n"
          ]
        }
      ]
    },
    {
      "cell_type": "markdown",
      "source": [
        "\n",
        "4. How to find the memory size of any array (★☆☆)"
      ],
      "metadata": {
        "id": "jcAnXhX2fMyv"
      }
    },
    {
      "cell_type": "code",
      "source": [
        "vector = np.zeros((10))\n",
        "memoria = vector.nbytes\n",
        "print(memoria)\n",
        "print(vector.itemsize)\n",
        "Z = np.zeros((10,10))\n",
        "print(\"%d bytes\" % (Z.size * Z.itemsize))\n",
        "# NOTA: nbytes--> es el producto del peso de cada elemento por la cantidad de elementos.\n",
        "# calcula el tamoño del array expresados en bytes, pero como el producto final de peso equivalente de cada elemento,\n",
        "# por el tamaño del array, para el caso de que se trate de un data 34bytes, cada elemento pesará 4bytes mientras que para cada 64 bytes\n",
        "# cada elemento pesa 8 bytes, depende del sistema operativo que por defecto lo asume.\n",
        "\n",
        "# itemsize--> solo es el peso de cada elemento de forma independiente"
      ],
      "metadata": {
        "colab": {
          "base_uri": "https://localhost:8080/"
        },
        "id": "Llnmk0gRfNxL",
        "outputId": "60eb8e86-214a-4adb-ae74-a5c059d76306"
      },
      "execution_count": 22,
      "outputs": [
        {
          "output_type": "stream",
          "name": "stdout",
          "text": [
            "80\n",
            "8\n",
            "800 bytes\n"
          ]
        }
      ]
    },
    {
      "cell_type": "markdown",
      "source": [
        "\n",
        "\n",
        "5. How to get the documentation of the numpy add function from the command line? (★☆☆)"
      ],
      "metadata": {
        "id": "DsxElrIHfslX"
      }
    },
    {
      "cell_type": "code",
      "source": [
        "help(np.add)"
      ],
      "metadata": {
        "colab": {
          "base_uri": "https://localhost:8080/"
        },
        "id": "mlLSRgpcf0kH",
        "outputId": "c6df0c5d-0342-42a3-bdbe-dccb1766589b"
      },
      "execution_count": 25,
      "outputs": [
        {
          "output_type": "stream",
          "name": "stdout",
          "text": [
            "Help on ufunc:\n",
            "\n",
            "add = <ufunc 'add'>\n",
            "    add(x1, x2, /, out=None, *, where=True, casting='same_kind', order='K', dtype=None, subok=True[, signature, extobj])\n",
            "    \n",
            "    Add arguments element-wise.\n",
            "    \n",
            "    Parameters\n",
            "    ----------\n",
            "    x1, x2 : array_like\n",
            "        The arrays to be added.\n",
            "        If ``x1.shape != x2.shape``, they must be broadcastable to a common\n",
            "        shape (which becomes the shape of the output).\n",
            "    out : ndarray, None, or tuple of ndarray and None, optional\n",
            "        A location into which the result is stored. If provided, it must have\n",
            "        a shape that the inputs broadcast to. If not provided or None,\n",
            "        a freshly-allocated array is returned. A tuple (possible only as a\n",
            "        keyword argument) must have length equal to the number of outputs.\n",
            "    where : array_like, optional\n",
            "        This condition is broadcast over the input. At locations where the\n",
            "        condition is True, the `out` array will be set to the ufunc result.\n",
            "        Elsewhere, the `out` array will retain its original value.\n",
            "        Note that if an uninitialized `out` array is created via the default\n",
            "        ``out=None``, locations within it where the condition is False will\n",
            "        remain uninitialized.\n",
            "    **kwargs\n",
            "        For other keyword-only arguments, see the\n",
            "        :ref:`ufunc docs <ufuncs.kwargs>`.\n",
            "    \n",
            "    Returns\n",
            "    -------\n",
            "    add : ndarray or scalar\n",
            "        The sum of `x1` and `x2`, element-wise.\n",
            "        This is a scalar if both `x1` and `x2` are scalars.\n",
            "    \n",
            "    Notes\n",
            "    -----\n",
            "    Equivalent to `x1` + `x2` in terms of array broadcasting.\n",
            "    \n",
            "    Examples\n",
            "    --------\n",
            "    >>> np.add(1.0, 4.0)\n",
            "    5.0\n",
            "    >>> x1 = np.arange(9.0).reshape((3, 3))\n",
            "    >>> x2 = np.arange(3.0)\n",
            "    >>> np.add(x1, x2)\n",
            "    array([[  0.,   2.,   4.],\n",
            "           [  3.,   5.,   7.],\n",
            "           [  6.,   8.,  10.]])\n",
            "    \n",
            "    The ``+`` operator can be used as a shorthand for ``np.add`` on ndarrays.\n",
            "    \n",
            "    >>> x1 = np.arange(9.0).reshape((3, 3))\n",
            "    >>> x2 = np.arange(3.0)\n",
            "    >>> x1 + x2\n",
            "    array([[ 0.,  2.,  4.],\n",
            "           [ 3.,  5.,  7.],\n",
            "           [ 6.,  8., 10.]])\n",
            "\n"
          ]
        }
      ]
    },
    {
      "cell_type": "markdown",
      "source": [
        "6. Create a null vector of size 10 but the fifth value which is 1 (★☆☆)"
      ],
      "metadata": {
        "id": "o8rSyTSPkedv"
      }
    },
    {
      "cell_type": "code",
      "source": [
        "Z = np.zeros(10)\n",
        "Z[4] = 1\n",
        "print(Z)"
      ],
      "metadata": {
        "colab": {
          "base_uri": "https://localhost:8080/"
        },
        "id": "mjVBDVbXkfmu",
        "outputId": "cbb9ba56-75fe-4f19-efe4-e85dbe2ec4f5"
      },
      "execution_count": 26,
      "outputs": [
        {
          "output_type": "stream",
          "name": "stdout",
          "text": [
            "[0. 0. 0. 0. 1. 0. 0. 0. 0. 0.]\n"
          ]
        }
      ]
    },
    {
      "cell_type": "markdown",
      "source": [
        "7. Create a vector with values ranging from 10 to 49 (★☆☆)"
      ],
      "metadata": {
        "id": "Mdmpp21lk1SH"
      }
    },
    {
      "cell_type": "code",
      "source": [
        "x = np.arange(10,51,2)\n",
        "print(x)"
      ],
      "metadata": {
        "colab": {
          "base_uri": "https://localhost:8080/"
        },
        "id": "UnGnSecsk17v",
        "outputId": "34d94cad-eeeb-4204-a0b0-d4f730c29ce6"
      },
      "execution_count": 29,
      "outputs": [
        {
          "output_type": "stream",
          "name": "stdout",
          "text": [
            "[10 12 14 16 18 20 22 24 26 28 30 32 34 36 38 40 42 44 46 48 50]\n"
          ]
        }
      ]
    },
    {
      "cell_type": "markdown",
      "source": [
        "8. Reverse a vector (first element becomes last) (★☆☆)"
      ],
      "metadata": {
        "id": "HwVA4sS2lWe_"
      }
    },
    {
      "cell_type": "code",
      "source": [
        "x = np.arange(10)\n",
        "x = x[::-1]\n",
        "print(x)"
      ],
      "metadata": {
        "colab": {
          "base_uri": "https://localhost:8080/"
        },
        "id": "y0MMjhlLlXN2",
        "outputId": "661dfb71-0f01-474f-cd64-cf9480c82a84"
      },
      "execution_count": 31,
      "outputs": [
        {
          "output_type": "stream",
          "name": "stdout",
          "text": [
            "[9 8 7 6 5 4 3 2 1 0]\n"
          ]
        }
      ]
    },
    {
      "cell_type": "markdown",
      "source": [
        "9. Create a 3x3 matrix with values ranging from 0 to 8 (★☆☆)"
      ],
      "metadata": {
        "id": "AAN_G0A6l6CX"
      }
    },
    {
      "cell_type": "code",
      "source": [
        "\n",
        "matriz_random = np.random.rand(3, 2)\n",
        "print(matriz_random)\n",
        "\n",
        "Z = np.arange(9).reshape(3, 3)\n",
        "print(Z)"
      ],
      "metadata": {
        "colab": {
          "base_uri": "https://localhost:8080/"
        },
        "id": "UJ84LUZXl6pQ",
        "outputId": "761d7b9e-8085-465b-9adb-87f02d5680b8"
      },
      "execution_count": 41,
      "outputs": [
        {
          "output_type": "stream",
          "name": "stdout",
          "text": [
            "[[0.23926676 0.63714004]\n",
            " [0.15042392 0.14718628]\n",
            " [0.72143059 0.74222922]]\n",
            "[[0 1 2]\n",
            " [3 4 5]\n",
            " [6 7 8]]\n"
          ]
        }
      ]
    },
    {
      "cell_type": "markdown",
      "source": [
        "10. Find indices of non-zero elements from [1,2,0,0,4,0] (★☆☆)"
      ],
      "metadata": {
        "id": "MSPrVlBvnP1T"
      }
    },
    {
      "cell_type": "code",
      "source": [
        "nz = np.nonzero([1,2,0,0,4,0])\n",
        "print(nz)"
      ],
      "metadata": {
        "colab": {
          "base_uri": "https://localhost:8080/"
        },
        "id": "M5tZmd__nRyq",
        "outputId": "8963101c-0a3c-4bea-80bd-731fdeb8999e"
      },
      "execution_count": 42,
      "outputs": [
        {
          "output_type": "stream",
          "name": "stdout",
          "text": [
            "(array([0, 1, 4]),)\n"
          ]
        }
      ]
    },
    {
      "cell_type": "markdown",
      "source": [
        "11. Create a 3x3 identity matrix (★☆☆)"
      ],
      "metadata": {
        "id": "UtfmTznyn00f"
      }
    },
    {
      "cell_type": "code",
      "source": [
        "z = np.eye(4)\n",
        "print(z)"
      ],
      "metadata": {
        "colab": {
          "base_uri": "https://localhost:8080/"
        },
        "id": "kuRI2gIln4Xf",
        "outputId": "031d393e-4bfc-4caf-c4d3-63904fd38a63"
      },
      "execution_count": 43,
      "outputs": [
        {
          "output_type": "stream",
          "name": "stdout",
          "text": [
            "[[1. 0. 0. 0.]\n",
            " [0. 1. 0. 0.]\n",
            " [0. 0. 1. 0.]\n",
            " [0. 0. 0. 1.]]\n"
          ]
        }
      ]
    },
    {
      "cell_type": "markdown",
      "source": [
        "\n",
        "12. Create a 3x3x3 array with random values (★☆☆)"
      ],
      "metadata": {
        "id": "c6ihnhmPoPiu"
      }
    },
    {
      "cell_type": "code",
      "source": [
        "z = np.random.rand(3,3,3)\n",
        "print(z)\n",
        "\n",
        "print(\"OTRA FORMA\")\n",
        "Z = np.random.random((3,3,3))\n",
        "print(Z)\n",
        "\n",
        "matriz_aleatoria = np.random.rand(2, 2)\n",
        "print(matriz_aleatoria)"
      ],
      "metadata": {
        "colab": {
          "base_uri": "https://localhost:8080/"
        },
        "id": "de6CQG_2oQOP",
        "outputId": "efce4175-7858-4958-f98c-5d2cd702d82d"
      },
      "execution_count": 48,
      "outputs": [
        {
          "output_type": "stream",
          "name": "stdout",
          "text": [
            "[[[0.6145033  0.09175396 0.17458032]\n",
            "  [0.1574186  0.26812452 0.64738946]\n",
            "  [0.09814253 0.20393472 0.46532563]]\n",
            "\n",
            " [[0.38040615 0.94152577 0.1345695 ]\n",
            "  [0.72675116 0.46540185 0.26604363]\n",
            "  [0.540131   0.92414263 0.75705171]]\n",
            "\n",
            " [[0.76323518 0.24109589 0.25283841]\n",
            "  [0.68655875 0.31302692 0.46356384]\n",
            "  [0.3342678  0.56342874 0.29994071]]]\n",
            "OTRA FORMA\n",
            "[[[0.00974028 0.08730028 0.49065588]\n",
            "  [0.778018   0.44626046 0.01066287]\n",
            "  [0.0710282  0.25630668 0.31984274]]\n",
            "\n",
            " [[0.06828692 0.1914437  0.34144907]\n",
            "  [0.09568741 0.79465709 0.43624981]\n",
            "  [0.65435984 0.11087222 0.37218236]]\n",
            "\n",
            " [[0.48281772 0.67702035 0.77145301]\n",
            "  [0.62832368 0.98509468 0.18682371]\n",
            "  [0.08812657 0.33960508 0.58036392]]]\n",
            "[[0.40477826 0.82955308]\n",
            " [0.2784754  0.68458412]]\n"
          ]
        }
      ]
    },
    {
      "cell_type": "markdown",
      "source": [
        "13. Create a 10x10 array with random values and find the minimum and maximum values (★☆☆)"
      ],
      "metadata": {
        "id": "0z-JKrvopw02"
      }
    },
    {
      "cell_type": "code",
      "source": [
        "z = np.random.rand(2,2)\n",
        "print(z)\n",
        "\n",
        "s = np.random.random((3,3))\n",
        "print(s)\n",
        "Zmin, Zmax = Z.min(), Z.max()\n",
        "#print(Zmin, Zmax)"
      ],
      "metadata": {
        "colab": {
          "base_uri": "https://localhost:8080/"
        },
        "id": "LQXQbK57pzHf",
        "outputId": "7b3cb382-f2cb-4362-9a49-e1c2db2f5cc3"
      },
      "execution_count": 56,
      "outputs": [
        {
          "output_type": "stream",
          "name": "stdout",
          "text": [
            "[[0.61945796 0.92173949]\n",
            " [0.75989357 0.81314444]]\n",
            "[[0.16350707 0.58161138 0.01324283]\n",
            " [0.48655913 0.33678218 0.93716152]\n",
            " [0.90620169 0.47450121 0.1603408 ]]\n"
          ]
        }
      ]
    },
    {
      "cell_type": "markdown",
      "source": [
        "14. Create a random vector of size 30 and find the mean value (★☆☆)"
      ],
      "metadata": {
        "id": "SzexYimprG5O"
      }
    },
    {
      "cell_type": "code",
      "source": [
        "x = np.random.random(30)\n",
        "print(x)\n",
        "\n",
        "y = np.mean(x)\n",
        "print(y)"
      ],
      "metadata": {
        "colab": {
          "base_uri": "https://localhost:8080/"
        },
        "id": "dzye7O45rHqH",
        "outputId": "4f26fa61-7979-4089-a1c6-d4f4cf41cb3c"
      },
      "execution_count": 58,
      "outputs": [
        {
          "output_type": "stream",
          "name": "stdout",
          "text": [
            "[0.89516786 0.71957489 0.5167997  0.99479265 0.93316183 0.4902825\n",
            " 0.29714788 0.36292259 0.90426695 0.8939605  0.48615388 0.01291571\n",
            " 0.12248761 0.79133676 0.26014916 0.40967382 0.62346639 0.68979306\n",
            " 0.45078598 0.26414363 0.71206115 0.11732341 0.76979323 0.08934599\n",
            " 0.78954236 0.74491334 0.65865673 0.4782985  0.30210352 0.03787632]\n",
            "0.5272965960319802\n"
          ]
        }
      ]
    },
    {
      "cell_type": "markdown",
      "source": [
        "15. Create a 2d array with 1 on the border and 0 inside (★☆☆)"
      ],
      "metadata": {
        "id": "bqX1hguZrktm"
      }
    },
    {
      "cell_type": "code",
      "source": [
        "Z = np.ones((10,10))\n",
        "Z[1:-1,1:-1] = 0\n",
        "# segun entiendo z tiene dos indices, el primero indica las filas y el segundo indica las columnas, ahora el termino 1:-1 significa\n",
        "# el numero del indice de la matriz, esto quiere decir que comienza en el indice 1 y termina en el ultimo indice, los demas indices se completa con cero.\n",
        "print(Z)"
      ],
      "metadata": {
        "colab": {
          "base_uri": "https://localhost:8080/"
        },
        "id": "hHfUmQA2rlpg",
        "outputId": "9fbbd2b4-1499-42d6-c568-fe8fd1d91a85"
      },
      "execution_count": 95,
      "outputs": [
        {
          "output_type": "stream",
          "name": "stdout",
          "text": [
            "[[1. 1. 1. 1. 1. 1. 1. 1. 1. 1.]\n",
            " [1. 0. 0. 0. 0. 0. 0. 0. 0. 1.]\n",
            " [1. 0. 0. 0. 0. 0. 0. 0. 0. 1.]\n",
            " [1. 0. 0. 0. 0. 0. 0. 0. 0. 1.]\n",
            " [1. 0. 0. 0. 0. 0. 0. 0. 0. 1.]\n",
            " [1. 0. 0. 0. 0. 0. 0. 0. 0. 1.]\n",
            " [1. 0. 0. 0. 0. 0. 0. 0. 0. 1.]\n",
            " [1. 0. 0. 0. 0. 0. 0. 0. 0. 1.]\n",
            " [1. 0. 0. 0. 0. 0. 0. 0. 0. 1.]\n",
            " [1. 1. 1. 1. 1. 1. 1. 1. 1. 1.]]\n"
          ]
        }
      ]
    },
    {
      "cell_type": "markdown",
      "source": [
        "16. How to add a border (filled with 0's) around an existing array? (★☆☆)"
      ],
      "metadata": {
        "id": "ju3yN_XwvEgr"
      }
    },
    {
      "cell_type": "code",
      "source": [
        "Z = np.ones((5,5))\n",
        "# Z = np.pad(Z, pad_width=1, mode='constant', constant_values=0)\n",
        "# print(Z)\n",
        "\n",
        "# Using fancy indexing\n",
        "# Z[0: -1, :] = 0\n",
        "Z[[0,-1], :] = 0\n",
        "Z[:, [0,-1]] = 0 # para este caso se entiende que cuando se coloca [0,-1] se toma de manera particulas los elementos que se encuentran en estos indices, mientras que cuando se coloca 0:-1 se toma como rango\n",
        "\n",
        "print(Z)"
      ],
      "metadata": {
        "colab": {
          "base_uri": "https://localhost:8080/"
        },
        "id": "d8QFr9hKvHQn",
        "outputId": "b3e6c378-8d0f-4f1f-c6f0-b78a67d5a558"
      },
      "execution_count": 135,
      "outputs": [
        {
          "output_type": "stream",
          "name": "stdout",
          "text": [
            "[[0. 0. 0. 0. 0.]\n",
            " [0. 1. 1. 1. 0.]\n",
            " [0. 1. 1. 1. 0.]\n",
            " [0. 1. 1. 1. 0.]\n",
            " [0. 0. 0. 0. 0.]]\n"
          ]
        }
      ]
    },
    {
      "cell_type": "code",
      "source": [],
      "metadata": {
        "colab": {
          "base_uri": "https://localhost:8080/"
        },
        "id": "Lc8PsZsK0ysE",
        "outputId": "a1b1744a-b2c9-4a89-c726-ad69cae3177b"
      },
      "execution_count": 136,
      "outputs": [
        {
          "output_type": "stream",
          "name": "stdout",
          "text": [
            "[ 0  1  2  3  4  5  6  7  8  9 10 11 12 13 14 15 16 17 18 19 20 21 22 23\n",
            " 24 25 26 27 28 29 30 31 32 33 34 35 36 37 38 39 40 41 42 43 44 45 46 47\n",
            " 48 49 50 51 52 53 54 55 56 57 58 59 60 61 62 63 64 65 66 67 68 69 70 71\n",
            " 72 73 74 75 76 77 78 79 80 81 82 83 84 85 86 87 88 89 90 91 92 93 94 95\n",
            " 96 97 98 99]\n",
            "6.2479550353440665\n",
            "[ 6.24795504  5.24795504  4.24795504  3.24795504  2.24795504  1.24795504\n",
            "  0.24795504  0.75204496  1.75204496  2.75204496  3.75204496  4.75204496\n",
            "  5.75204496  6.75204496  7.75204496  8.75204496  9.75204496 10.75204496\n",
            " 11.75204496 12.75204496 13.75204496 14.75204496 15.75204496 16.75204496\n",
            " 17.75204496 18.75204496 19.75204496 20.75204496 21.75204496 22.75204496\n",
            " 23.75204496 24.75204496 25.75204496 26.75204496 27.75204496 28.75204496\n",
            " 29.75204496 30.75204496 31.75204496 32.75204496 33.75204496 34.75204496\n",
            " 35.75204496 36.75204496 37.75204496 38.75204496 39.75204496 40.75204496\n",
            " 41.75204496 42.75204496 43.75204496 44.75204496 45.75204496 46.75204496\n",
            " 47.75204496 48.75204496 49.75204496 50.75204496 51.75204496 52.75204496\n",
            " 53.75204496 54.75204496 55.75204496 56.75204496 57.75204496 58.75204496\n",
            " 59.75204496 60.75204496 61.75204496 62.75204496 63.75204496 64.75204496\n",
            " 65.75204496 66.75204496 67.75204496 68.75204496 69.75204496 70.75204496\n",
            " 71.75204496 72.75204496 73.75204496 74.75204496 75.75204496 76.75204496\n",
            " 77.75204496 78.75204496 79.75204496 80.75204496 81.75204496 82.75204496\n",
            " 83.75204496 84.75204496 85.75204496 86.75204496 87.75204496 88.75204496\n",
            " 89.75204496 90.75204496 91.75204496 92.75204496]\n",
            "6\n"
          ]
        }
      ]
    },
    {
      "cell_type": "code",
      "source": [],
      "metadata": {
        "id": "1H7cxATr3HE2"
      },
      "execution_count": null,
      "outputs": []
    },
    {
      "cell_type": "code",
      "source": [],
      "metadata": {
        "colab": {
          "base_uri": "https://localhost:8080/"
        },
        "id": "lnPFHQvU27vo",
        "outputId": "15131d5c-0339-47bf-a255-383a38d46037"
      },
      "execution_count": 137,
      "outputs": [
        {
          "output_type": "stream",
          "name": "stdout",
          "text": [
            "[-0.22656118  0.13574151]\n"
          ]
        }
      ]
    }
  ]
}